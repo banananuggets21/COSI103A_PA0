{
 "cells": [
  {
   "cell_type": "markdown",
   "metadata": {},
   "source": [
    "# Courses Demo\n",
    "This Jupyter notebook is for exploring the data set courses20-21.json\n",
    "which consists of all Brandeis courses in the 20-21 academic year (Fall20, Spr21, Sum21) \n",
    "which had at least 1 student enrolled.\n",
    "\n",
    "First we need to read the json file into a list of Python dictionaries"
   ]
  },
  {
   "cell_type": "code",
   "execution_count": 3,
   "metadata": {},
   "outputs": [],
   "source": [
    "import json"
   ]
  },
  {
   "cell_type": "code",
   "execution_count": 4,
   "metadata": {},
   "outputs": [],
   "source": [
    "with open(\"courses20-21.json\",\"r\",encoding='utf-8') as jsonfile:\n",
    "    courses = json.load(jsonfile)"
   ]
  },
  {
   "cell_type": "markdown",
   "metadata": {},
   "source": [
    "## Structure of a course\n",
    "Next we look at the fields of each course dictionary and their values"
   ]
  },
  {
   "cell_type": "code",
   "execution_count": 5,
   "metadata": {},
   "outputs": [
    {
     "name": "stdout",
     "output_type": "stream",
     "text": [
      "there are 7813 courses in the dataset\n",
      "here is the data for course 1246\n"
     ]
    },
    {
     "data": {
      "text/plain": [
       "{'limit': 28,\n",
       " 'times': [{'start': 1080, 'end': 1170, 'days': ['w', 'm']}],\n",
       " 'enrolled': 4,\n",
       " 'details': 'Instruction for this course will be offered remotely. Meeting times for this course are listed in the schedule of classes (in ET).',\n",
       " 'type': 'section',\n",
       " 'status_text': 'Open',\n",
       " 'section': '1',\n",
       " 'waiting': 0,\n",
       " 'instructor': ['An', 'Huang', 'anhuang@brandeis.edu'],\n",
       " 'coinstructors': [],\n",
       " 'code': ['MATH', '223A'],\n",
       " 'subject': 'MATH',\n",
       " 'coursenum': '223A',\n",
       " 'name': 'Lie Algebras: Representation Theory',\n",
       " 'independent_study': False,\n",
       " 'term': '1203',\n",
       " 'description': \"Theorems of Engel and Lie. Semisimple Lie algebras, Cartan's criterion. Universal enveloping algebras, PBW theorem, Serre's construction. Representation theory. Other topics as time permits. Usually offered every second year.\\nAn Huang\"}"
      ]
     },
     "execution_count": 5,
     "metadata": {},
     "output_type": "execute_result"
    }
   ],
   "source": [
    "print('there are',len(courses),'courses in the dataset')\n",
    "print('here is the data for course 1246')\n",
    "courses[1246]"
   ]
  },
  {
   "cell_type": "markdown",
   "metadata": {},
   "source": [
    "## Cleaning the data\n",
    "If we want to sort courses by instructor or by code, we need to replace the lists with tuples (which are immutable lists)"
   ]
  },
  {
   "cell_type": "code",
   "execution_count": 6,
   "metadata": {},
   "outputs": [],
   "source": [
    "for course in courses:\n",
    "        course['instructor'] = tuple(course['instructor'])\n",
    "        course['coinstructors'] = tuple([tuple(f) for f in course['coinstructors']])\n",
    "        course['code']= tuple(course['code'])"
   ]
  },
  {
   "cell_type": "code",
   "execution_count": 7,
   "metadata": {},
   "outputs": [
    {
     "name": "stdout",
     "output_type": "stream",
     "text": [
      "notice that the instructor and code are tuples now\n"
     ]
    },
    {
     "data": {
      "text/plain": [
       "{'limit': 28,\n",
       " 'times': [{'start': 1080, 'end': 1170, 'days': ['w', 'm']}],\n",
       " 'enrolled': 4,\n",
       " 'details': 'Instruction for this course will be offered remotely. Meeting times for this course are listed in the schedule of classes (in ET).',\n",
       " 'type': 'section',\n",
       " 'status_text': 'Open',\n",
       " 'section': '1',\n",
       " 'waiting': 0,\n",
       " 'instructor': ('An', 'Huang', 'anhuang@brandeis.edu'),\n",
       " 'coinstructors': (),\n",
       " 'code': ('MATH', '223A'),\n",
       " 'subject': 'MATH',\n",
       " 'coursenum': '223A',\n",
       " 'name': 'Lie Algebras: Representation Theory',\n",
       " 'independent_study': False,\n",
       " 'term': '1203',\n",
       " 'description': \"Theorems of Engel and Lie. Semisimple Lie algebras, Cartan's criterion. Universal enveloping algebras, PBW theorem, Serre's construction. Representation theory. Other topics as time permits. Usually offered every second year.\\nAn Huang\"}"
      ]
     },
     "execution_count": 7,
     "metadata": {},
     "output_type": "execute_result"
    }
   ],
   "source": [
    "print('notice that the instructor and code are tuples now')\n",
    "courses[1246]"
   ]
  },
  {
   "cell_type": "markdown",
   "metadata": {},
   "source": [
    "# Exploring the data set\n",
    "Now we will show how to use straight python to explore the data set and answer some interesting questions. Next week we will start learning Pandas/Numpy which are packages that make it easier to explore large dataset efficiently.\n",
    "\n",
    "Here are some questions we can try to asnwer:\n",
    "* what are all of the subjects of courses (e.g. COSI, MATH, JAPN, PHIL, ...)\n",
    "* which terms are represented?\n",
    "* how many instructors taught at Brandeis last year?\n",
    "* what were the five largest course sections?\n",
    "* what were the five largest courses (where we combine sections)?\n",
    "* which are the five largest subjects measured by number of courses offered?\n",
    "* which are the five largest courses measured by number of students taught?\n",
    "* which course had the most sections taught in 20-21?\n",
    "* who are the top five faculty in terms of number of students taught?\n",
    "* etc."
   ]
  },
  {
   "cell_type": "markdown",
   "metadata": {},
   "source": [
    "a. How many faculty taught COSI courses last year? - Completed by James Kong on 2/12/2022"
   ]
  },
  {
   "cell_type": "code",
   "execution_count": 8,
   "metadata": {},
   "outputs": [
    {
     "name": "stdout",
     "output_type": "stream",
     "text": [
      "27 faculty members taught COSI courses last year\n"
     ]
    }
   ],
   "source": [
    "numFac = {c['instructor'] for c in courses if c['subject'] == 'COSI'}\n",
    "\n",
    "print(str(len(numFac)) + \" faculty members taught COSI courses last year\")"
   ]
  },
  {
   "cell_type": "markdown",
   "metadata": {},
   "source": [
    "b. What is the total number of students taking COSI courses last year? - Completed by James Kong on 2/12/2022"
   ]
  },
  {
   "cell_type": "code",
   "execution_count": 9,
   "metadata": {},
   "outputs": [
    {
     "name": "stdout",
     "output_type": "stream",
     "text": [
      "272 students took COSI courses last year\n"
     ]
    }
   ],
   "source": [
    "numStud = [c['enrolled'] for c in courses if c['subject'] == 'COSI']\n",
    "\n",
    "countEnroll = 0\n",
    "\n",
    "for i in range(len(numStud)):\n",
    "    countEnroll += numStud[i]\n",
    "\n",
    "print(str(len(numStud)) + \" students took COSI courses last year\")"
   ]
  },
  {
   "cell_type": "markdown",
   "metadata": {},
   "source": [
    "c. What was the median size of a COSI course last year (counting only those courses with at least 10 students) - Completed by James Kong on 2/12/2022"
   ]
  },
  {
   "cell_type": "code",
   "execution_count": 10,
   "metadata": {},
   "outputs": [
    {
     "name": "stdout",
     "output_type": "stream",
     "text": [
      "37 is the median size of a COSI course last year (counting only those courses with at least 10 students)\n"
     ]
    }
   ],
   "source": [
    "numStud = [c['enrolled'] for c in courses if c['subject'] == 'COSI' and c['enrolled'] >= 10]\n",
    "\n",
    "numStud.sort()\n",
    "\n",
    "size = len(numStud)\n",
    "\n",
    "if size % 2 == 0:\n",
    "    med1 = numStud[size//2]\n",
    "    med2 = numStud[size//2 - 1]\n",
    "    finalMed = (med1 + med2) / 2\n",
    "else:\n",
    "    finalMed = numStud[size//2]\n",
    "\n",
    "print(str(finalMed) + \" is the median size of a COSI course last year (counting only those courses with at least 10 students)\")"
   ]
  },
  {
   "cell_type": "markdown",
   "metadata": {},
   "source": [
    "d. Create a list of tuples (E,S) where S is a subject and E is the number of students enrolled in courses in that subject, sort it and print the top 10. This shows the top 10 subjects in terms of number of students taught - Completed by James Kong on 2/12/2022"
   ]
  },
  {
   "cell_type": "code",
   "execution_count": 11,
   "metadata": {},
   "outputs": [
    {
     "name": "stdout",
     "output_type": "stream",
     "text": [
      "Top 10 Subjects:\n",
      "1. (784, 'HWL')\n",
      "2. (186, 'CHEM')\n",
      "3. (186, 'BIOL')\n",
      "4. (181, 'BIOL')\n",
      "5. (180, 'CHEM')\n",
      "6. (175, 'HS')\n",
      "7. (170, 'PSYC')\n",
      "8. (166, 'PSYC')\n",
      "9. (166, 'COSI')\n",
      "10. (150, 'COSI')\n"
     ]
    }
   ],
   "source": [
    "listTup = [(c['enrolled'], c['subject']) for c in courses]\n",
    "\n",
    "for i in range(1, len(listTup)):\n",
    "    j = i\n",
    "    while j > 0 and listTup[j][0] > listTup[j-1][0]:\n",
    "        temp = listTup[j]\n",
    "        listTup[j] = listTup[j-1]\n",
    "        listTup[j-1] = temp\n",
    "        j -= 1\n",
    "\n",
    "counter = 0\n",
    "print(\"Top 10 Subjects:\")\n",
    "for i in range(10):\n",
    "    counter += 1\n",
    "    print(str(counter) + \". \" + str(listTup[i]))"
   ]
  },
  {
   "cell_type": "markdown",
   "metadata": {},
   "source": [
    "e. Do the same as in (d) but print the top 10 subjects in terms of number of courses offered - Started by James Kong on 2/13/2022\n",
    "\n",
    "**NOT DONE, NEED TO FIGURE OUT, IF YOU KNOW HOW TO DO THIS, PLS HELP :)\n",
    "-Finished by Hiro Chen on 2/16/2022"
   ]
  },
  {
   "cell_type": "code",
   "execution_count": 12,
   "metadata": {},
   "outputs": [
    {
     "data": {
      "text/plain": [
       "[(188, 'HS'),\n",
       " (72, 'BIOL'),\n",
       " (72, 'MUS'),\n",
       " (71, 'ENG'),\n",
       " (68, 'ANTH'),\n",
       " (65, 'BUS'),\n",
       " (64, 'NEJS'),\n",
       " (57, 'PSYC'),\n",
       " (55, 'MATH'),\n",
       " (53, 'ECON')]"
      ]
     },
     "execution_count": 12,
     "metadata": {},
     "output_type": "execute_result"
    }
   ],
   "source": [
    "#listSubjects = {c['subject'],c[] for c in courses}\n",
    "\n",
    "'''\n",
    "for i in range(1, len(listTup)):\n",
    "    j = i\n",
    "    while j > 0 and listTup[j][0] > listTup[j-1][0]:\n",
    "        temp = listTup[j]\n",
    "        listTup[j] = listTup[j-1]\n",
    "        listTup[j-1] = temp\n",
    "        j -= 1\n",
    "'''\n",
    "\n",
    "#print(listSubjects)\n",
    "\n",
    "'''\n",
    "counter = 0\n",
    "print(\"Top 10 Subjects:\")\n",
    "for i in range(10):\n",
    "    counter += 1\n",
    "    print(str(counter) + \". \" + str(listTup[i]))\n",
    "'''\n",
    "\n",
    "#addedCourses = set()\n",
    "totalCourses = []\n",
    "#addedCourses = []\n",
    "addedCourses = set()\n",
    "courseDict = {}\n",
    "\n",
    "for course in courses:\n",
    "    if course[\"code\"] not in addedCourses:\n",
    "        totalCourses.append(course)\n",
    "        #addedCourses.append(course)\n",
    "        addedCourses.add(course[\"code\"])\n",
    " \n",
    "for course in totalCourses:\n",
    "    if course[\"subject\"] in courseDict.keys():\n",
    "        courseDict[course[\"subject\"]] = courseDict[course[\"subject\"]] + 1\n",
    "    else:\n",
    "        courseDict[course[\"subject\"]] = 1\n",
    "\n",
    "lessons = [(item[1],item[0]) for item in courseDict.items()]\n",
    "newCourseDict = sorted(lessons, key = lambda item: item[0], reverse = True)[0:10]\n",
    "newCourseDict"
   ]
  },
  {
   "cell_type": "markdown",
   "metadata": {},
   "source": [
    "f. do the same as (d) but print the top 10 subjects in terms of number of faculty teaching courses in that subject\n",
    "-Finished by Hiro Chen on 2/16/2022"
   ]
  },
  {
   "cell_type": "code",
   "execution_count": 13,
   "metadata": {},
   "outputs": [
    {
     "data": {
      "text/plain": [
       "[(87, 'HS'),\n",
       " (67, 'BIOL'),\n",
       " (52, 'ECON'),\n",
       " (49, 'BCHM'),\n",
       " (47, 'HIST'),\n",
       " (46, 'BUS'),\n",
       " (46, 'BCBP'),\n",
       " (45, 'HWL'),\n",
       " (37, 'MATH'),\n",
       " (37, 'NEJS')]"
      ]
     },
     "execution_count": 13,
     "metadata": {},
     "output_type": "execute_result"
    }
   ],
   "source": [
    "courseDict = {}\n",
    "for course in courses:\n",
    "    \n",
    "    if course[\"subject\"] not in courseDict.keys():\n",
    "        courseDict[course[\"subject\"]] = set()\n",
    "    courseDict[course[\"subject\"]].add((course[\"instructor\"][2]))\n",
    "    \n",
    "    for coinstructor in course[\"coinstructors\"]:\n",
    "        courseDict[course[\"subject\"]].add(coinstructor[2])\n",
    "contents = [(len(item[1]),item[0]) for item in courseDict.items()]\n",
    "newCourseDict = sorted(contents, key = lambda item:item[0], reverse = True)[0:10]\n",
    "newCourseDict"
   ]
  },
  {
   "cell_type": "markdown",
   "metadata": {},
   "source": [
    "g. list the top 20 faculty in terms of number of students they taught - Completed by Jeremy Bernstein on 2/16/2022"
   ]
  },
  {
   "cell_type": "code",
   "execution_count": 23,
   "metadata": {},
   "outputs": [
    {
     "name": "stdout",
     "output_type": "stream",
     "text": [
      "[(('Leah', 'Berkenwald', 'leahb@brandeis.edu'), 784), (('Stephanie', 'Murray', 'murray@brandeis.edu'), 186), (('Maria', 'de Boef Miara', 'mmiara@brandeis.edu'), 186), (('Maria', 'de Boef Miara', 'mmiara@brandeis.edu'), 181), (('Stephanie', 'Murray', 'murray@brandeis.edu'), 180), (('Stuart', 'Altman', 'altman@brandeis.edu'), 175), (('Anne S', 'Berry', 'anneberry@brandeis.edu'), 170), (('Ellen J', 'Wright', 'ejwright@brandeis.edu'), 166), (('Timothy J', 'Hickey', 'tjhickey@brandeis.edu'), 166), (('Timothy J', 'Hickey', 'tjhickey@brandeis.edu'), 150), (('Daniel', 'Breen', 'dbreen91@brandeis.edu'), 145), (('Dan L', 'Perlman', 'perlman@brandeis.edu'), 141), (('Colleen', 'Hitchcock', 'hitchcock@brandeis.edu'), 136), (('Teresa Vann', 'Mitchell', 'tmitch@brandeis.edu'), 135), (('Jennifer', 'Gutsell', 'jgutsell@brandeis.edu'), 119), (('Peter', 'Mistark', 'pmistark@brandeis.edu'), 109), (('Peter', 'Mistark', 'pmistark@brandeis.edu'), 107), (('Michael Thomas', 'Marr', 'mmarr@brandeis.edu'), 105), (('Paul', 'DiZio', 'dizio@brandeis.edu'), 105), (('Geoffrey', 'Clarke', 'geoffclarke@brandeis.edu'), 104)]\n"
     ]
    }
   ],
   "source": [
    "listTup = [(c['instructor'], c['enrolled']) for c in courses]\n",
    "print(sorted(listTup, key=lambda t: t[1], reverse=True)[:20])"
   ]
  },
  {
   "cell_type": "markdown",
   "metadata": {},
   "source": [
    "h. list the top 20 courses in terms of number of students taking that course (where you combine different sections and semesters, i.e. just use the subject and course number) - Completed by Jeremy Bernstein on 2/16/2022"
   ]
  },
  {
   "cell_type": "code",
   "execution_count": 22,
   "metadata": {},
   "outputs": [
    {
     "name": "stdout",
     "output_type": "stream",
     "text": [
      "[(('HWL', '1-PRE'), 784), (('CHEM', '25A'), 186), (('BIOL', '42A'), 186), (('BIOL', '15B'), 181), (('CHEM', '25B'), 180), (('HS', '104B'), 175), (('PSYC', '10A'), 170), (('PSYC', '10A'), 166), (('COSI', '164A'), 166), (('COSI', '10A'), 150), (('LGLS', '10A'), 145), (('ENVS', '2A'), 141), (('BIOL', '16A'), 136), (('NPSY', '199A'), 135), (('PSYC', '34B'), 119), (('PHYS', '10A'), 109), (('PHYS', '10B'), 107), (('BIOL', '350A'), 105), (('PSYC', '51A'), 105), (('ECON', '10A'), 104)]\n"
     ]
    }
   ],
   "source": [
    "listTup = [(c['code'], c['enrolled']) for c in courses]\n",
    "print(sorted(listTup, key=lambda t: t[1], reverse=True)[:20])"
   ]
  },
  {
   "cell_type": "markdown",
   "metadata": {},
   "source": [
    "i. What percentage of classes met on Monday and Wednesday at least?\n",
    "(Create your own interesting question (each team member creates their own) and use Python to answer that question) - Completed by James Kong on 2/13/2022"
   ]
  },
  {
   "cell_type": "code",
   "execution_count": 14,
   "metadata": {},
   "outputs": [
    {
     "name": "stdout",
     "output_type": "stream",
     "text": [
      "9.43% of classes met on Monday and Wednesday at least\n"
     ]
    }
   ],
   "source": [
    "listCourses = [c['times'][0]['days'] for c in courses if len(c['times']) > 0 if 'm' in c['times'][0]['days'] and 'w' in c['times'][0]['days']]\n",
    "\n",
    "print(str(round((len(listCourses) / len(courses)) * 100, 2)) + \"% of classes met on Monday and Wednesday at least\")"
   ]
  },
  {
   "cell_type": "markdown",
   "metadata": {},
   "source": [
    "i.  (Create your own interesting question (each team member creates their own) and use Python to answer that question)\n",
    "What is the total number of students taking MATH courses last year?\n",
    "-Finished by Hiro Chen on 2/16/2022"
   ]
  },
  {
   "cell_type": "code",
   "execution_count": 15,
   "metadata": {},
   "outputs": [
    {
     "name": "stdout",
     "output_type": "stream",
     "text": [
      "228 students took MATH courses last year\n"
     ]
    }
   ],
   "source": [
    "students = [c['enrolled'] for c in courses if c['subject'] == 'MATH']\n",
    "\n",
    "print(str(len(students)) + \" students took MATH courses last year\")"
   ]
  },
  {
   "cell_type": "markdown",
   "metadata": {},
   "source": [
    "i.  (Create your own interesting question (each team member creates their own) and use Python to answer that question)\n",
    "What percent of students took COSI last year?\n",
    "-Finished by Jeremy Bernstein on 2/16/2022"
   ]
  },
  {
   "cell_type": "code",
   "execution_count": 21,
   "metadata": {},
   "outputs": [
    {
     "name": "stdout",
     "output_type": "stream",
     "text": [
      "3%\n"
     ]
    }
   ],
   "source": [
    "students = [c['enrolled'] for c in courses]\n",
    "cosiStudents = [c['enrolled'] for c in courses if c['subject'] == 'COSI']\n",
    "print ((str(round((len(cosiStudents)/len(students))*100))) + \"%\")"
   ]
  }
 ],
 "metadata": {
  "kernelspec": {
   "display_name": "Python 3 (ipykernel)",
   "language": "python",
   "name": "python3"
  },
  "language_info": {
   "codemirror_mode": {
    "name": "ipython",
    "version": 3
   },
   "file_extension": ".py",
   "mimetype": "text/x-python",
   "name": "python",
   "nbconvert_exporter": "python",
   "pygments_lexer": "ipython3",
   "version": "3.8.9"
  }
 },
 "nbformat": 4,
 "nbformat_minor": 4
}
